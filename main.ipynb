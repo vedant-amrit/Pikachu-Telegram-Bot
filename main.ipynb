{
 "cells": [
  {
   "cell_type": "code",
   "execution_count": 1,
   "metadata": {},
   "outputs": [],
   "source": []
  },
  {
   "cell_type": "code",
   "execution_count": 1,
   "metadata": {},
   "outputs": [],
   "source": [
    "import os\n",
    "os.environ['BOTTOKEN']='7590117712:AAHsze_WHynLiGPS4hfMybTHZTgd7Wy3L9Y'\n"
   ]
  },
  {
   "cell_type": "code",
   "execution_count": 2,
   "metadata": {},
   "outputs": [],
   "source": [
    "import telebot\n",
    "import pickle\n",
    "bot = telebot.TeleBot(os.environ.get('BOTTOKEN'))\n",
    "from sklearn.feature_extraction.text import CountVectorizer\n",
    "with open('model.pkl', 'rb') as f:\n",
    "    model = pickle.load(f)"
   ]
  },
  {
   "cell_type": "code",
   "execution_count": 3,
   "metadata": {},
   "outputs": [
    {
     "data": {
      "text/plain": [
       "<Compressed Sparse Row sparse matrix of dtype 'int64'\n",
       "\twith 73610 stored elements and shape (5560, 8612)>"
      ]
     },
     "execution_count": 3,
     "metadata": {},
     "output_type": "execute_result"
    }
   ],
   "source": [
    "import pandas as pd\n",
    "df = pd.read_csv('spam.csv')\n",
    "cv = CountVectorizer()\n",
    "cv.fit_transform(df['v2'])\n",
    "\n"
   ]
  },
  {
   "cell_type": "code",
   "execution_count": 4,
   "metadata": {},
   "outputs": [],
   "source": [
    "def checkspam(message):\n",
    "    return model.predict(cv.transform([message]))[0]\n"
   ]
  },
  {
   "cell_type": "code",
   "execution_count": 5,
   "metadata": {},
   "outputs": [],
   "source": [
    "@bot.message_handler(commands=['start','hello'])\n",
    "def sendmessage(message):\n",
    "    print(message)\n",
    "    bot.send_message(message.chat.id,\"Hi, How are you doing\")"
   ]
  },
  {
   "cell_type": "code",
   "execution_count": 6,
   "metadata": {},
   "outputs": [],
   "source": [
    "@bot.message_handler(commands = ['delete'])\n",
    "def delete(message):\n",
    "    bot.delete_message(message.chat.id,message.message_id)"
   ]
  },
  {
   "cell_type": "code",
   "execution_count": 33,
   "metadata": {},
   "outputs": [],
   "source": []
  },
  {
   "cell_type": "code",
   "execution_count": 7,
   "metadata": {},
   "outputs": [],
   "source": [
    "import re\n",
    "url_pattern = re.compile(r'(https?://\\S+|www\\.\\S+)')\n",
    "def restrict_malicious_links(message):\n",
    "    # Check if the message contains a URL\n",
    "    if url_pattern.search(message.text):\n",
    "        # Action: delete the message and warn the user\n",
    "        return True\n",
    "    else:\n",
    "        return False\n",
    "        bot.delete_message(message.chat.id, message.message_id)\n",
    "\n",
    "        "
   ]
  },
  {
   "cell_type": "code",
   "execution_count": 8,
   "metadata": {},
   "outputs": [],
   "source": [
    "\n",
    "@bot.message_handler(func=lambda message:True)\n",
    "def echo(message):\n",
    "    print(message)\n",
    "    msg = message.text\n",
    "    isSpam = checkspam(msg)\n",
    "    isMali = restrict_malicious_links(message)\n",
    "    if(isMali):\n",
    "        chat_type = message.chat.type\n",
    "        bot.delete_message(message.chat.id, message.message_id)\n",
    "        if chat_type == \"private\":\n",
    "            warning_message = f\"🚫 {message.from_user.first_name}, sending links is not allowed in this chat.\"\n",
    "        elif chat_type == \"group\" or chat_type == \"supergroup\":\n",
    "            warning_message = f\"🚫 {message.from_user.first_name}, sending links is not allowed in this group.\"\n",
    "        bot.send_message(message.chat.id, warning_message)        \n",
    "    elif(isSpam == 1):\n",
    "        bot.delete_message(message.chat.id, message.message_id)\n",
    "        bot.send_message(message.chat.id, message.from_user.first_name+\" have sent a Spam Message\")\n",
    "    # print(msg)"
   ]
  },
  {
   "cell_type": "code",
   "execution_count": 9,
   "metadata": {},
   "outputs": [],
   "source": [
    "@bot.message_handler(content_types=['new_chat_members'])\n",
    "def welcome_new_member(message):\n",
    "    for new_user in message.new_chat_members:\n",
    "        # You can customize the message\n",
    "        welcome_message = f\"Welcome, {new_user.first_name}! 🎉\\nFeel free to ask any questions or explore the group.\"\n",
    "        bot.send_message(message.chat.id, welcome_message)"
   ]
  },
  {
   "cell_type": "code",
   "execution_count": 10,
   "metadata": {},
   "outputs": [],
   "source": [
    "# import re\n",
    "\n",
    "# url_pattern = re.compile(r'(https?://\\S+|www\\.\\S+)')\n",
    "\n",
    "# @bot.message_handler(func=lambda message: True)\n",
    "# # def restrict_malicious_links(message):\n",
    "# #     # Check if the message contains a URL\n",
    "# #     if url_pattern.search(message.text):\n",
    "# #         # Action: delete the message and warn the user\n",
    "# #         bot.delete_message(message.chat.id, message.message_id)\n",
    "\n",
    "# #         chat_type = message.chat.type\n",
    "        \n",
    "# #         if chat_type == \"private\":\n",
    "# #             warning_message = f\"🚫 {message.from_user.first_name}, sending links is not allowed in this chat.\"\n",
    "# #         elif chat_type == \"group\" or chat_type == \"supergroup\":\n",
    "# #             warning_message = f\"🚫 {message.from_user.first_name}, sending links is not allowed in this group.\"\n",
    "# #         bot.send_message(message.chat.id, warning_message)"
   ]
  },
  {
   "cell_type": "code",
   "execution_count": 11,
   "metadata": {},
   "outputs": [],
   "source": [
    "# @bot.my_chat_member_handler()\n",
    "# def updateMember(update):\n",
    "#     print(update)"
   ]
  },
  {
   "cell_type": "markdown",
   "metadata": {},
   "source": []
  },
  {
   "cell_type": "code",
   "execution_count": null,
   "metadata": {},
   "outputs": [
    {
     "name": "stdout",
     "output_type": "stream",
     "text": [
      "{'content_type': 'text', 'id': 74, 'message_id': 74, 'from_user': {'id': 1489126447, 'is_bot': False, 'first_name': 'Twinkle', 'username': 'Twinkle2005', 'last_name': None, 'language_code': None, 'can_join_groups': None, 'can_read_all_group_messages': None, 'supports_inline_queries': None, 'is_premium': None, 'added_to_attachment_menu': None, 'can_connect_to_business': None, 'has_main_web_app': None}, 'date': 1729597814, 'chat': {'id': -1002474262647, 'type': 'supergroup', 'title': 'Vedant and Vinit Code', 'username': None, 'first_name': None, 'last_name': None, 'is_forum': None, 'max_reaction_count': None, 'photo': None, 'bio': None, 'join_to_send_messages': None, 'join_by_request': None, 'has_private_forwards': None, 'has_restricted_voice_and_video_messages': None, 'description': None, 'invite_link': None, 'pinned_message': None, 'permissions': None, 'slow_mode_delay': None, 'message_auto_delete_time': None, 'has_protected_content': None, 'sticker_set_name': None, 'can_set_sticker_set': None, 'linked_chat_id': None, 'location': None, 'active_usernames': None, 'emoji_status_custom_emoji_id': None, 'has_hidden_members': None, 'has_aggressive_anti_spam_enabled': None, 'emoji_status_expiration_date': None, 'available_reactions': None, 'accent_color_id': None, 'background_custom_emoji_id': None, 'profile_accent_color_id': None, 'profile_background_custom_emoji_id': None, 'has_visible_history': None, 'unrestrict_boost_count': None, 'custom_emoji_sticker_set_name': None, 'business_intro': None, 'business_location': None, 'business_opening_hours': None, 'personal_chat': None, 'birthdate': None, 'can_send_paid_media': None}, 'sender_chat': None, 'is_automatic_forward': None, 'reply_to_message': None, 'via_bot': None, 'edit_date': None, 'has_protected_content': None, 'media_group_id': None, 'author_signature': None, 'text': 'https://coursevania.com/courses/creative-beginnings-photoshop-illustrator-essentials-2in1/', 'entities': [<telebot.types.MessageEntity object at 0x0000026E21333590>], 'caption_entities': None, 'audio': None, 'document': None, 'photo': None, 'sticker': None, 'video': None, 'video_note': None, 'voice': None, 'caption': None, 'contact': None, 'location': None, 'venue': None, 'animation': None, 'dice': None, 'new_chat_members': None, 'left_chat_member': None, 'new_chat_title': None, 'new_chat_photo': None, 'delete_chat_photo': None, 'group_chat_created': None, 'supergroup_chat_created': None, 'channel_chat_created': None, 'migrate_to_chat_id': None, 'migrate_from_chat_id': None, 'pinned_message': None, 'invoice': None, 'successful_payment': None, 'connected_website': None, 'reply_markup': None, 'message_thread_id': None, 'is_topic_message': None, 'chat_background_set': None, 'forum_topic_created': None, 'forum_topic_closed': None, 'forum_topic_reopened': None, 'has_media_spoiler': None, 'forum_topic_edited': None, 'general_forum_topic_hidden': None, 'general_forum_topic_unhidden': None, 'write_access_allowed': None, 'users_shared': None, 'chat_shared': None, 'story': None, 'external_reply': None, 'quote': None, 'link_preview_options': {'is_disabled': None, 'url': 'https://coursevania.com/courses/creative-beginnings-photoshop-illustrator-essentials-2in1/', 'prefer_small_media': None, 'prefer_large_media': True, 'show_above_text': None}, 'giveaway_created': None, 'giveaway': None, 'giveaway_winners': None, 'giveaway_completed': None, 'forward_origin': None, 'boost_added': None, 'sender_boost_count': None, 'reply_to_story': None, 'sender_business_bot': None, 'business_connection_id': None, 'is_from_offline': None, 'effect_id': None, 'show_caption_above_media': None, 'paid_media': None, 'refunded_payment': None, 'proximity_alert_triggered': None, 'video_chat_scheduled': None, 'video_chat_started': None, 'video_chat_ended': None, 'video_chat_participants_invited': None, 'web_app_data': None, 'message_auto_delete_timer_changed': None, 'json': {'message_id': 74, 'from': {'id': 1489126447, 'is_bot': False, 'first_name': 'Twinkle', 'username': 'Twinkle2005'}, 'chat': {'id': -1002474262647, 'title': 'Vedant and Vinit Code', 'type': 'supergroup'}, 'date': 1729597814, 'text': 'https://coursevania.com/courses/creative-beginnings-photoshop-illustrator-essentials-2in1/', 'entities': [{'offset': 0, 'length': 90, 'type': 'url'}], 'link_preview_options': {'url': 'https://coursevania.com/courses/creative-beginnings-photoshop-illustrator-essentials-2in1/', 'prefer_large_media': True}}}\n"
     ]
    },
    {
     "name": "stderr",
     "output_type": "stream",
     "text": [
      "2024-10-22 17:20:15,887 (__init__.py:1115 MainThread) ERROR - TeleBot: \"Infinity polling exception: cannot access local variable 'warning_message' where it is not associated with a value\"\n",
      "2024-10-22 17:20:15,887 (__init__.py:1117 MainThread) ERROR - TeleBot: \"Exception traceback:\n",
      "Traceback (most recent call last):\n",
      "  File \"C:\\Users\\vedan\\AppData\\Roaming\\Python\\Python312\\site-packages\\telebot\\__init__.py\", line 1110, in infinity_polling\n",
      "    self.polling(non_stop=True, timeout=timeout, long_polling_timeout=long_polling_timeout,\n",
      "  File \"C:\\Users\\vedan\\AppData\\Roaming\\Python\\Python312\\site-packages\\telebot\\__init__.py\", line 1198, in polling\n",
      "    self.__threaded_polling(non_stop=non_stop, interval=interval, timeout=timeout, long_polling_timeout=long_polling_timeout,\n",
      "  File \"C:\\Users\\vedan\\AppData\\Roaming\\Python\\Python312\\site-packages\\telebot\\__init__.py\", line 1273, in __threaded_polling\n",
      "    raise e\n",
      "  File \"C:\\Users\\vedan\\AppData\\Roaming\\Python\\Python312\\site-packages\\telebot\\__init__.py\", line 1235, in __threaded_polling\n",
      "    self.worker_pool.raise_exceptions()\n",
      "  File \"C:\\Users\\vedan\\AppData\\Roaming\\Python\\Python312\\site-packages\\telebot\\util.py\", line 150, in raise_exceptions\n",
      "    raise self.exception_info\n",
      "  File \"C:\\Users\\vedan\\AppData\\Roaming\\Python\\Python312\\site-packages\\telebot\\util.py\", line 93, in run\n",
      "    task(*args, **kwargs)\n",
      "  File \"C:\\Users\\vedan\\AppData\\Roaming\\Python\\Python312\\site-packages\\telebot\\__init__.py\", line 8945, in _run_middlewares_and_handler\n",
      "    result = handler['function'](message)\n",
      "             ^^^^^^^^^^^^^^^^^^^^^^^^^^^^\n",
      "  File \"C:\\Users\\vedan\\AppData\\Local\\Temp\\ipykernel_18280\\470427461.py\", line 10, in echo\n",
      "    bot.send_message(message.chat.id, warning_message)\n",
      "                              ^^^^^^^^^^^^^^^\n",
      "UnboundLocalError: cannot access local variable 'warning_message' where it is not associated with a value\n",
      "\"\n"
     ]
    },
    {
     "name": "stdout",
     "output_type": "stream",
     "text": [
      "{'content_type': 'text', 'id': 75, 'message_id': 75, 'from_user': {'id': 1489126447, 'is_bot': False, 'first_name': 'Twinkle', 'username': 'Twinkle2005', 'last_name': None, 'language_code': None, 'can_join_groups': None, 'can_read_all_group_messages': None, 'supports_inline_queries': None, 'is_premium': None, 'added_to_attachment_menu': None, 'can_connect_to_business': None, 'has_main_web_app': None}, 'date': 1729597828, 'chat': {'id': -1002474262647, 'type': 'supergroup', 'title': 'Vedant and Vinit Code', 'username': None, 'first_name': None, 'last_name': None, 'is_forum': None, 'max_reaction_count': None, 'photo': None, 'bio': None, 'join_to_send_messages': None, 'join_by_request': None, 'has_private_forwards': None, 'has_restricted_voice_and_video_messages': None, 'description': None, 'invite_link': None, 'pinned_message': None, 'permissions': None, 'slow_mode_delay': None, 'message_auto_delete_time': None, 'has_protected_content': None, 'sticker_set_name': None, 'can_set_sticker_set': None, 'linked_chat_id': None, 'location': None, 'active_usernames': None, 'emoji_status_custom_emoji_id': None, 'has_hidden_members': None, 'has_aggressive_anti_spam_enabled': None, 'emoji_status_expiration_date': None, 'available_reactions': None, 'accent_color_id': None, 'background_custom_emoji_id': None, 'profile_accent_color_id': None, 'profile_background_custom_emoji_id': None, 'has_visible_history': None, 'unrestrict_boost_count': None, 'custom_emoji_sticker_set_name': None, 'business_intro': None, 'business_location': None, 'business_opening_hours': None, 'personal_chat': None, 'birthdate': None, 'can_send_paid_media': None}, 'sender_chat': None, 'is_automatic_forward': None, 'reply_to_message': None, 'via_bot': None, 'edit_date': None, 'has_protected_content': None, 'media_group_id': None, 'author_signature': None, 'text': 'https://coursevania.com/courses/creative-beginnings-photoshop-illustrator-essentials-2in1/', 'entities': [<telebot.types.MessageEntity object at 0x0000026E31C36480>], 'caption_entities': None, 'audio': None, 'document': None, 'photo': None, 'sticker': None, 'video': None, 'video_note': None, 'voice': None, 'caption': None, 'contact': None, 'location': None, 'venue': None, 'animation': None, 'dice': None, 'new_chat_members': None, 'left_chat_member': None, 'new_chat_title': None, 'new_chat_photo': None, 'delete_chat_photo': None, 'group_chat_created': None, 'supergroup_chat_created': None, 'channel_chat_created': None, 'migrate_to_chat_id': None, 'migrate_from_chat_id': None, 'pinned_message': None, 'invoice': None, 'successful_payment': None, 'connected_website': None, 'reply_markup': None, 'message_thread_id': None, 'is_topic_message': None, 'chat_background_set': None, 'forum_topic_created': None, 'forum_topic_closed': None, 'forum_topic_reopened': None, 'has_media_spoiler': None, 'forum_topic_edited': None, 'general_forum_topic_hidden': None, 'general_forum_topic_unhidden': None, 'write_access_allowed': None, 'users_shared': None, 'chat_shared': None, 'story': None, 'external_reply': None, 'quote': None, 'link_preview_options': {'is_disabled': None, 'url': 'https://coursevania.com/courses/creative-beginnings-photoshop-illustrator-essentials-2in1/', 'prefer_small_media': None, 'prefer_large_media': True, 'show_above_text': None}, 'giveaway_created': None, 'giveaway': None, 'giveaway_winners': None, 'giveaway_completed': None, 'forward_origin': None, 'boost_added': None, 'sender_boost_count': None, 'reply_to_story': None, 'sender_business_bot': None, 'business_connection_id': None, 'is_from_offline': None, 'effect_id': None, 'show_caption_above_media': None, 'paid_media': None, 'refunded_payment': None, 'proximity_alert_triggered': None, 'video_chat_scheduled': None, 'video_chat_started': None, 'video_chat_ended': None, 'video_chat_participants_invited': None, 'web_app_data': None, 'message_auto_delete_timer_changed': None, 'json': {'message_id': 75, 'from': {'id': 1489126447, 'is_bot': False, 'first_name': 'Twinkle', 'username': 'Twinkle2005'}, 'chat': {'id': -1002474262647, 'title': 'Vedant and Vinit Code', 'type': 'supergroup'}, 'date': 1729597828, 'text': 'https://coursevania.com/courses/creative-beginnings-photoshop-illustrator-essentials-2in1/', 'entities': [{'offset': 0, 'length': 90, 'type': 'url'}], 'link_preview_options': {'url': 'https://coursevania.com/courses/creative-beginnings-photoshop-illustrator-essentials-2in1/', 'prefer_large_media': True}}}\n"
     ]
    },
    {
     "name": "stderr",
     "output_type": "stream",
     "text": [
      "2024-10-22 17:20:29,566 (__init__.py:1115 MainThread) ERROR - TeleBot: \"Infinity polling exception: cannot access local variable 'warning_message' where it is not associated with a value\"\n",
      "2024-10-22 17:20:29,566 (__init__.py:1117 MainThread) ERROR - TeleBot: \"Exception traceback:\n",
      "Traceback (most recent call last):\n",
      "  File \"C:\\Users\\vedan\\AppData\\Roaming\\Python\\Python312\\site-packages\\telebot\\__init__.py\", line 1110, in infinity_polling\n",
      "    self.polling(non_stop=True, timeout=timeout, long_polling_timeout=long_polling_timeout,\n",
      "  File \"C:\\Users\\vedan\\AppData\\Roaming\\Python\\Python312\\site-packages\\telebot\\__init__.py\", line 1198, in polling\n",
      "    self.__threaded_polling(non_stop=non_stop, interval=interval, timeout=timeout, long_polling_timeout=long_polling_timeout,\n",
      "  File \"C:\\Users\\vedan\\AppData\\Roaming\\Python\\Python312\\site-packages\\telebot\\__init__.py\", line 1273, in __threaded_polling\n",
      "    raise e\n",
      "  File \"C:\\Users\\vedan\\AppData\\Roaming\\Python\\Python312\\site-packages\\telebot\\__init__.py\", line 1235, in __threaded_polling\n",
      "    self.worker_pool.raise_exceptions()\n",
      "  File \"C:\\Users\\vedan\\AppData\\Roaming\\Python\\Python312\\site-packages\\telebot\\util.py\", line 150, in raise_exceptions\n",
      "    raise self.exception_info\n",
      "  File \"C:\\Users\\vedan\\AppData\\Roaming\\Python\\Python312\\site-packages\\telebot\\util.py\", line 93, in run\n",
      "    task(*args, **kwargs)\n",
      "  File \"C:\\Users\\vedan\\AppData\\Roaming\\Python\\Python312\\site-packages\\telebot\\__init__.py\", line 8945, in _run_middlewares_and_handler\n",
      "    result = handler['function'](message)\n",
      "             ^^^^^^^^^^^^^^^^^^^^^^^^^^^^\n",
      "  File \"C:\\Users\\vedan\\AppData\\Local\\Temp\\ipykernel_18280\\470427461.py\", line 10, in echo\n",
      "    bot.send_message(message.chat.id, warning_message)\n",
      "                              ^^^^^^^^^^^^^^^\n",
      "UnboundLocalError: cannot access local variable 'warning_message' where it is not associated with a value\n",
      "\"\n"
     ]
    },
    {
     "name": "stdout",
     "output_type": "stream",
     "text": [
      "{'content_type': 'text', 'id': 76, 'message_id': 76, 'from_user': {'id': 1489126447, 'is_bot': False, 'first_name': 'Twinkle', 'username': 'Twinkle2005', 'last_name': None, 'language_code': None, 'can_join_groups': None, 'can_read_all_group_messages': None, 'supports_inline_queries': None, 'is_premium': None, 'added_to_attachment_menu': None, 'can_connect_to_business': None, 'has_main_web_app': None}, 'date': 1729597841, 'chat': {'id': -1002474262647, 'type': 'supergroup', 'title': 'Vedant and Vinit Code', 'username': None, 'first_name': None, 'last_name': None, 'is_forum': None, 'max_reaction_count': None, 'photo': None, 'bio': None, 'join_to_send_messages': None, 'join_by_request': None, 'has_private_forwards': None, 'has_restricted_voice_and_video_messages': None, 'description': None, 'invite_link': None, 'pinned_message': None, 'permissions': None, 'slow_mode_delay': None, 'message_auto_delete_time': None, 'has_protected_content': None, 'sticker_set_name': None, 'can_set_sticker_set': None, 'linked_chat_id': None, 'location': None, 'active_usernames': None, 'emoji_status_custom_emoji_id': None, 'has_hidden_members': None, 'has_aggressive_anti_spam_enabled': None, 'emoji_status_expiration_date': None, 'available_reactions': None, 'accent_color_id': None, 'background_custom_emoji_id': None, 'profile_accent_color_id': None, 'profile_background_custom_emoji_id': None, 'has_visible_history': None, 'unrestrict_boost_count': None, 'custom_emoji_sticker_set_name': None, 'business_intro': None, 'business_location': None, 'business_opening_hours': None, 'personal_chat': None, 'birthdate': None, 'can_send_paid_media': None}, 'sender_chat': None, 'is_automatic_forward': None, 'reply_to_message': None, 'via_bot': None, 'edit_date': None, 'has_protected_content': None, 'media_group_id': None, 'author_signature': None, 'text': 'Abcd', 'entities': None, 'caption_entities': None, 'audio': None, 'document': None, 'photo': None, 'sticker': None, 'video': None, 'video_note': None, 'voice': None, 'caption': None, 'contact': None, 'location': None, 'venue': None, 'animation': None, 'dice': None, 'new_chat_members': None, 'left_chat_member': None, 'new_chat_title': None, 'new_chat_photo': None, 'delete_chat_photo': None, 'group_chat_created': None, 'supergroup_chat_created': None, 'channel_chat_created': None, 'migrate_to_chat_id': None, 'migrate_from_chat_id': None, 'pinned_message': None, 'invoice': None, 'successful_payment': None, 'connected_website': None, 'reply_markup': None, 'message_thread_id': None, 'is_topic_message': None, 'chat_background_set': None, 'forum_topic_created': None, 'forum_topic_closed': None, 'forum_topic_reopened': None, 'has_media_spoiler': None, 'forum_topic_edited': None, 'general_forum_topic_hidden': None, 'general_forum_topic_unhidden': None, 'write_access_allowed': None, 'users_shared': None, 'chat_shared': None, 'story': None, 'external_reply': None, 'quote': None, 'link_preview_options': None, 'giveaway_created': None, 'giveaway': None, 'giveaway_winners': None, 'giveaway_completed': None, 'forward_origin': None, 'boost_added': None, 'sender_boost_count': None, 'reply_to_story': None, 'sender_business_bot': None, 'business_connection_id': None, 'is_from_offline': None, 'effect_id': None, 'show_caption_above_media': None, 'paid_media': None, 'refunded_payment': None, 'proximity_alert_triggered': None, 'video_chat_scheduled': None, 'video_chat_started': None, 'video_chat_ended': None, 'video_chat_participants_invited': None, 'web_app_data': None, 'message_auto_delete_timer_changed': None, 'json': {'message_id': 76, 'from': {'id': 1489126447, 'is_bot': False, 'first_name': 'Twinkle', 'username': 'Twinkle2005'}, 'chat': {'id': -1002474262647, 'title': 'Vedant and Vinit Code', 'type': 'supergroup'}, 'date': 1729597841, 'text': 'Abcd'}}\n",
      "{'content_type': 'text', 'id': 77, 'message_id': 77, 'from_user': {'id': 1489126447, 'is_bot': False, 'first_name': 'Twinkle', 'username': 'Twinkle2005', 'last_name': None, 'language_code': None, 'can_join_groups': None, 'can_read_all_group_messages': None, 'supports_inline_queries': None, 'is_premium': None, 'added_to_attachment_menu': None, 'can_connect_to_business': None, 'has_main_web_app': None}, 'date': 1729597844, 'chat': {'id': -1002474262647, 'type': 'supergroup', 'title': 'Vedant and Vinit Code', 'username': None, 'first_name': None, 'last_name': None, 'is_forum': None, 'max_reaction_count': None, 'photo': None, 'bio': None, 'join_to_send_messages': None, 'join_by_request': None, 'has_private_forwards': None, 'has_restricted_voice_and_video_messages': None, 'description': None, 'invite_link': None, 'pinned_message': None, 'permissions': None, 'slow_mode_delay': None, 'message_auto_delete_time': None, 'has_protected_content': None, 'sticker_set_name': None, 'can_set_sticker_set': None, 'linked_chat_id': None, 'location': None, 'active_usernames': None, 'emoji_status_custom_emoji_id': None, 'has_hidden_members': None, 'has_aggressive_anti_spam_enabled': None, 'emoji_status_expiration_date': None, 'available_reactions': None, 'accent_color_id': None, 'background_custom_emoji_id': None, 'profile_accent_color_id': None, 'profile_background_custom_emoji_id': None, 'has_visible_history': None, 'unrestrict_boost_count': None, 'custom_emoji_sticker_set_name': None, 'business_intro': None, 'business_location': None, 'business_opening_hours': None, 'personal_chat': None, 'birthdate': None, 'can_send_paid_media': None}, 'sender_chat': None, 'is_automatic_forward': None, 'reply_to_message': None, 'via_bot': None, 'edit_date': None, 'has_protected_content': None, 'media_group_id': None, 'author_signature': None, 'text': 'https://coursevania.com/courses/creative-beginnings-photoshop-illustrator-essentials-2in1/', 'entities': [<telebot.types.MessageEntity object at 0x0000026E33B2D3A0>], 'caption_entities': None, 'audio': None, 'document': None, 'photo': None, 'sticker': None, 'video': None, 'video_note': None, 'voice': None, 'caption': None, 'contact': None, 'location': None, 'venue': None, 'animation': None, 'dice': None, 'new_chat_members': None, 'left_chat_member': None, 'new_chat_title': None, 'new_chat_photo': None, 'delete_chat_photo': None, 'group_chat_created': None, 'supergroup_chat_created': None, 'channel_chat_created': None, 'migrate_to_chat_id': None, 'migrate_from_chat_id': None, 'pinned_message': None, 'invoice': None, 'successful_payment': None, 'connected_website': None, 'reply_markup': None, 'message_thread_id': None, 'is_topic_message': None, 'chat_background_set': None, 'forum_topic_created': None, 'forum_topic_closed': None, 'forum_topic_reopened': None, 'has_media_spoiler': None, 'forum_topic_edited': None, 'general_forum_topic_hidden': None, 'general_forum_topic_unhidden': None, 'write_access_allowed': None, 'users_shared': None, 'chat_shared': None, 'story': None, 'external_reply': None, 'quote': None, 'link_preview_options': {'is_disabled': None, 'url': 'https://coursevania.com/courses/creative-beginnings-photoshop-illustrator-essentials-2in1/', 'prefer_small_media': None, 'prefer_large_media': True, 'show_above_text': None}, 'giveaway_created': None, 'giveaway': None, 'giveaway_winners': None, 'giveaway_completed': None, 'forward_origin': None, 'boost_added': None, 'sender_boost_count': None, 'reply_to_story': None, 'sender_business_bot': None, 'business_connection_id': None, 'is_from_offline': None, 'effect_id': None, 'show_caption_above_media': None, 'paid_media': None, 'refunded_payment': None, 'proximity_alert_triggered': None, 'video_chat_scheduled': None, 'video_chat_started': None, 'video_chat_ended': None, 'video_chat_participants_invited': None, 'web_app_data': None, 'message_auto_delete_timer_changed': None, 'json': {'message_id': 77, 'from': {'id': 1489126447, 'is_bot': False, 'first_name': 'Twinkle', 'username': 'Twinkle2005'}, 'chat': {'id': -1002474262647, 'title': 'Vedant and Vinit Code', 'type': 'supergroup'}, 'date': 1729597844, 'text': 'https://coursevania.com/courses/creative-beginnings-photoshop-illustrator-essentials-2in1/', 'entities': [{'offset': 0, 'length': 90, 'type': 'url'}], 'link_preview_options': {'url': 'https://coursevania.com/courses/creative-beginnings-photoshop-illustrator-essentials-2in1/', 'prefer_large_media': True}}}\n"
     ]
    },
    {
     "name": "stderr",
     "output_type": "stream",
     "text": [
      "2024-10-22 17:20:45,124 (__init__.py:1115 MainThread) ERROR - TeleBot: \"Infinity polling exception: cannot access local variable 'warning_message' where it is not associated with a value\"\n",
      "2024-10-22 17:20:45,124 (__init__.py:1117 MainThread) ERROR - TeleBot: \"Exception traceback:\n",
      "Traceback (most recent call last):\n",
      "  File \"C:\\Users\\vedan\\AppData\\Roaming\\Python\\Python312\\site-packages\\telebot\\__init__.py\", line 1110, in infinity_polling\n",
      "    self.polling(non_stop=True, timeout=timeout, long_polling_timeout=long_polling_timeout,\n",
      "  File \"C:\\Users\\vedan\\AppData\\Roaming\\Python\\Python312\\site-packages\\telebot\\__init__.py\", line 1198, in polling\n",
      "    self.__threaded_polling(non_stop=non_stop, interval=interval, timeout=timeout, long_polling_timeout=long_polling_timeout,\n",
      "  File \"C:\\Users\\vedan\\AppData\\Roaming\\Python\\Python312\\site-packages\\telebot\\__init__.py\", line 1273, in __threaded_polling\n",
      "    raise e\n",
      "  File \"C:\\Users\\vedan\\AppData\\Roaming\\Python\\Python312\\site-packages\\telebot\\__init__.py\", line 1235, in __threaded_polling\n",
      "    self.worker_pool.raise_exceptions()\n",
      "  File \"C:\\Users\\vedan\\AppData\\Roaming\\Python\\Python312\\site-packages\\telebot\\util.py\", line 150, in raise_exceptions\n",
      "    raise self.exception_info\n",
      "  File \"C:\\Users\\vedan\\AppData\\Roaming\\Python\\Python312\\site-packages\\telebot\\util.py\", line 93, in run\n",
      "    task(*args, **kwargs)\n",
      "  File \"C:\\Users\\vedan\\AppData\\Roaming\\Python\\Python312\\site-packages\\telebot\\__init__.py\", line 8945, in _run_middlewares_and_handler\n",
      "    result = handler['function'](message)\n",
      "             ^^^^^^^^^^^^^^^^^^^^^^^^^^^^\n",
      "  File \"C:\\Users\\vedan\\AppData\\Local\\Temp\\ipykernel_18280\\470427461.py\", line 10, in echo\n",
      "    bot.send_message(message.chat.id, warning_message)\n",
      "                              ^^^^^^^^^^^^^^^\n",
      "UnboundLocalError: cannot access local variable 'warning_message' where it is not associated with a value\n",
      "\"\n"
     ]
    }
   ],
   "source": [
    "bot.infinity_polling()"
   ]
  },
  {
   "cell_type": "code",
   "execution_count": null,
   "metadata": {},
   "outputs": [],
   "source": []
  }
 ],
 "metadata": {
  "kernelspec": {
   "display_name": "Python 3",
   "language": "python",
   "name": "python3"
  },
  "language_info": {
   "codemirror_mode": {
    "name": "ipython",
    "version": 3
   },
   "file_extension": ".py",
   "mimetype": "text/x-python",
   "name": "python",
   "nbconvert_exporter": "python",
   "pygments_lexer": "ipython3",
   "version": "3.12.4"
  }
 },
 "nbformat": 4,
 "nbformat_minor": 2
}
